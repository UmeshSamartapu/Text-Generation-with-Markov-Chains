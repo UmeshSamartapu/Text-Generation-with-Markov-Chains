{
  "nbformat": 4,
  "nbformat_minor": 0,
  "metadata": {
    "colab": {
      "provenance": []
    },
    "kernelspec": {
      "name": "python3",
      "display_name": "Python 3"
    },
    "language_info": {
      "name": "python"
    }
  },
  "cells": [
    {
      "cell_type": "markdown",
      "source": [
        "# Text Generation with Markov Chains"
      ],
      "metadata": {
        "id": "5BIVR0psjyTT"
      }
    },
    {
      "cell_type": "markdown",
      "source": [
        "## Markov Chain Implementation"
      ],
      "metadata": {
        "id": "bgd7fH5TjyWE"
      }
    },
    {
      "cell_type": "code",
      "source": [
        "import random\n",
        "from collections import defaultdict\n",
        "\n",
        "class MarkovChain:\n",
        "    def __init__(self, order=1):\n",
        "        self.order = order\n",
        "        self.model = defaultdict(list)\n",
        "\n",
        "    def train(self, text):\n",
        "        words = text.split()\n",
        "        for i in range(len(words) - self.order):\n",
        "            key = tuple(words[i:i+self.order])\n",
        "            next_word = words[i + self.order]\n",
        "            self.model[key].append(next_word)\n",
        "\n",
        "    def generate(self, max_words=50):\n",
        "        if not self.model:\n",
        "            return \"\"\n",
        "        start = random.choice(list(self.model.keys()))\n",
        "        result = list(start)\n",
        "        for _ in range(max_words - self.order):\n",
        "            key = tuple(result[-self.order:])\n",
        "            next_words = self.model.get(key)\n",
        "            if not next_words:\n",
        "                break\n",
        "            result.append(random.choice(next_words))\n",
        "        return ' '.join(result)"
      ],
      "metadata": {
        "id": "WTgb-p4ij0aO"
      },
      "execution_count": 1,
      "outputs": []
    },
    {
      "cell_type": "markdown",
      "source": [
        "## Input Text"
      ],
      "metadata": {
        "id": "U6io22aej5ew"
      }
    },
    {
      "cell_type": "code",
      "source": [
        "input_text = \"\"\"Once upon a time there was a brave knight who fought dragons and saved kingdoms.\n",
        "The knight traveled across mountains and rivers. Every town he visited, people greeted him with joy.\"\"\"\n",
        "\n",
        "print(\"Input text:\")\n",
        "print(input_text)"
      ],
      "metadata": {
        "colab": {
          "base_uri": "https://localhost:8080/"
        },
        "id": "TRtQZ5Uqj2QG",
        "outputId": "e75e5812-4350-470b-b6ce-870bf013ee12"
      },
      "execution_count": 3,
      "outputs": [
        {
          "output_type": "stream",
          "name": "stdout",
          "text": [
            "Input text:\n",
            "Once upon a time there was a brave knight who fought dragons and saved kingdoms. \n",
            "The knight traveled across mountains and rivers. Every town he visited, people greeted him with joy.\n"
          ]
        }
      ]
    },
    {
      "cell_type": "markdown",
      "source": [
        "## Training and Generation"
      ],
      "metadata": {
        "id": "4o6_wewwj7il"
      }
    },
    {
      "cell_type": "code",
      "source": [
        "print(\"Training Markov model...\")\n",
        "markov = MarkovChain(order=2)  # Try changing the order (1 = bigram, 2 = trigram)\n",
        "markov.train(input_text)\n",
        "\n",
        "print(\"\\nGenerated Text:\\n\")\n",
        "generated = markov.generate(max_words=50)\n",
        "print(generated)"
      ],
      "metadata": {
        "colab": {
          "base_uri": "https://localhost:8080/"
        },
        "id": "0vK_HDo6j7Gp",
        "outputId": "a3829693-cc5b-4472-c404-ede87ca7a6ed"
      },
      "execution_count": 4,
      "outputs": [
        {
          "output_type": "stream",
          "name": "stdout",
          "text": [
            "Training Markov model...\n",
            "\n",
            "Generated Text:\n",
            "\n",
            "Once upon a time there was a brave knight who fought dragons and saved kingdoms. The knight traveled across mountains and rivers. Every town he visited, people greeted him with joy.\n"
          ]
        }
      ]
    },
    {
      "cell_type": "markdown",
      "source": [
        "## Multiple Generations"
      ],
      "metadata": {
        "id": "bXoSGhyUkEXO"
      }
    },
    {
      "cell_type": "code",
      "source": [
        "for i in range(3):\n",
        "    print(f\"\\nSample {i+1}:\")\n",
        "    print(markov.generate(max_words=20))"
      ],
      "metadata": {
        "colab": {
          "base_uri": "https://localhost:8080/"
        },
        "id": "UX7g5Tn6kCXO",
        "outputId": "2a8a0aa1-57eb-4085-e95f-6af4e0828079"
      },
      "execution_count": 5,
      "outputs": [
        {
          "output_type": "stream",
          "name": "stdout",
          "text": [
            "\n",
            "Sample 1:\n",
            "greeted him with joy.\n",
            "\n",
            "Sample 2:\n",
            "there was a brave knight who fought dragons and saved kingdoms. The knight traveled across mountains and rivers. Every town\n",
            "\n",
            "Sample 3:\n",
            "and saved kingdoms. The knight traveled across mountains and rivers. Every town he visited, people greeted him with joy.\n"
          ]
        }
      ]
    },
    {
      "cell_type": "markdown",
      "source": [
        "## Try Different Orders"
      ],
      "metadata": {
        "id": "lU1H8HCXkKIF"
      }
    },
    {
      "cell_type": "code",
      "source": [
        "## Try Different Orders\n",
        "for order in [1, 2, 3]:\n",
        "    print(f\"\\nOrder {order}:\")\n",
        "    mc = MarkovChain(order=order)\n",
        "    mc.train(input_text)\n",
        "    print(mc.generate(max_words=30))"
      ],
      "metadata": {
        "colab": {
          "base_uri": "https://localhost:8080/"
        },
        "id": "pZToIk6KkE_g",
        "outputId": "75512017-7981-432e-b580-4ac8483b599c"
      },
      "execution_count": 7,
      "outputs": [
        {
          "output_type": "stream",
          "name": "stdout",
          "text": [
            "\n",
            "Order 1:\n",
            "kingdoms. The knight who fought dragons and saved kingdoms. The knight traveled across mountains and saved kingdoms. The knight who fought dragons and rivers. Every town he visited, people greeted\n",
            "\n",
            "Order 2:\n",
            "brave knight who fought dragons and saved kingdoms. The knight traveled across mountains and rivers. Every town he visited, people greeted him with joy.\n",
            "\n",
            "Order 3:\n",
            "greeted him with joy.\n"
          ]
        }
      ]
    },
    {
      "cell_type": "code",
      "source": [],
      "metadata": {
        "id": "-bww3C-tkJET"
      },
      "execution_count": null,
      "outputs": []
    }
  ]
}